{
 "cells": [
  {
   "cell_type": "markdown",
   "metadata": {},
   "source": [
    "# Session 4\n",
    "\n",
    "This lecture focuses on using some applied tools for interfacing with the outside world.\n",
    "<br>Also at the class, we will go through understanding the data delivered by the OSC, and designing data parser.\n",
    "\n",
    "## Learning Objectives:\n",
    "* Understand OSC Protocol\n",
    "* Linking Phone sensors with Python using OSC protocol\n",
    "* Implement an interactive application based on smartphone input\n",
    "* Revise the previous examples of image classification\n",
    "\n",
    "## Practical Examples:\n",
    "* Posture state detection based on Phone sensors\n",
    "\n",
    "## Required Libraries:\n",
    "__pandas__: Library used to load and save data files"
   ]
  },
  {
   "cell_type": "markdown",
   "metadata": {},
   "source": [
    "---\n",
    "## OSC Protocol\n",
    "\n",
    "OSC (Open Sound Control) was originally developed to control sound devices and instruments over network. For example, an application on your tablet can contain the controllers of an audio synthesiser. It basically sends messages with parameters over network from one device/application to another. For example, message to control volume can be like:\n",
    "<br>__/volume 35__ or __/bgm/volum 35__\n",
    "\n",
    "The first part __/volume__ is the message path, and the following __35__ is the parameter.\n",
    "\n",
    "<br>One main advantage of this protocol is its simplicity and ease to add more messages into it. One downside of it is it can't handle large amount of data in its argument (for example sending large size images).\n",
    "\n",
    "<br>We will/were use this protocol to communicate Python scripts with other applications (for example, Processing). This session we will use it to communicate with smartphone to receive phone's sensors.\n",
    "\n",
    "---\n",
    "## Communicating Smartphone Sensors \n",
    "\n",
    "We will use [Zig-Project](https://zig-project.com) applications to handle sensor data from the phone. __ZIGSIM__ app sends OSC messages to the PC containing selected sensors from the application.\n",
    "\n",
    "<img src=\"./Images/ZIG_1.PNG\" width=\"30%\">\n",
    "\n",
    "You can enable/disable any of the listed sensors in this app. Also, when you hit run button in middle, you can see what data are sent:\n",
    "<img src=\"./Images/ZIG_3.PNG\" width=\"30%\">\n",
    "\n",
    "There is also a useful application for PC named __ZIG indicator__ that can visualize the sent information:\n",
    "<img src=\"./Images/ZIG_4.png\" width=\"80%\">\n",
    "\n",
    "To use ZIG Sim with the Indicator, you will need to configure the Phone app settings:\n",
    "<img src=\"./Images/ZIG_5.PNG\" width=\"30%\">\n",
    "\n",
    "__Protocol__ should be UDP. \n",
    "<br>__IP Address, Port__ should be equal to what the indicator displays. \n",
    "<br>__Message Format__ it should be JSON just for now. \n",
    "<br>__Device UUID__ to your name."
   ]
  },
  {
   "cell_type": "markdown",
   "metadata": {},
   "source": [
    "---\n",
    "## OSC with Python\n",
    "\n",
    "We need to create a \"server\" in python that can handle OSC messages. Todo so, __OSCHelper__ library (developed for this class) will be used.\n",
    "\n",
    "OSCHelper let us create server and client that can communicate with other applications locally or overnetwork. \n",
    "\n",
    "[OSC_Phone Notebook](./Python/OSC_Phone.ipynb) contains an example of how the sever is created to handle the requests:\n",
    "\n",
    "__server=OSCHelper.createServer(50001)__\n",
    "\n",
    "It takes one parameter, port number, and prints out the IP address it is assigned to. \n",
    "<img src=\"./Images/OSCHelper_1.png\" width=\"100%\">\n",
    "\n",
    "Next, is to start collecting samples from OSC. PML library contains custom function __CollectSamplesOSC__ that lets you receive set of samples for specific features (sensors). __nPerLabel__ lets you decide how many samples per label to be used.\n",
    "\n",
    "<br>__PML.ExportOSCData__ lets you export the captured data to a CSV file (can be opened by excel for example). \n",
    "<img src=\"./Images/csv_1.png\" width=\"100%\">\n",
    "\n",
    "\n",
    "---\n",
    "### Loading Data, creating model, and training\n",
    "\n",
    "__PML.load_csv_samples__ lets you load the exported data sheet (CSV file), and parses the samples to vector of numbers that can be used for training later. \n",
    "<img src=\"./Images/csv_2.png\" width=\"100%\">\n",
    "\n",
    "Now, you can prepare these data (normalize them, split them, ...etc) and create a model, and fit it!\n",
    "<br>__PML.plot_acc_loss(history)__ lets you see the accuracy directly inside the notebook!\n",
    "<img src=\"./Images/training_1.png\" width=\"40%\">\n",
    "\n",
    "---\n",
    "## Communicating with Other applications\n",
    "\n",
    "Now we have our model ready, we can test it with external application. For this we will use Processing to receive the prediction results, and outputs what it receives.\n",
    "\n",
    "In python, __OSCHelper.createClient(4200)__ lets you create a client to communicate with another application. The port should be also same as in the other application.\n",
    "\n",
    "<br>[Interactive_App](./Processing/Interactive_App/Interactive_App.pde)\n",
    "\n",
    "<br>Currently it only shows the activity, but this can be further more sophesticated to handle interactive scenarios, controls some actuators, and take decisions based on the predicted situation!\n",
    "\n",
    "\n",
    "<img src=\"./Images/Interactive_1.png\" width=\"40%\">"
   ]
  },
  {
   "cell_type": "markdown",
   "metadata": {},
   "source": [
    "---\n",
    "## Revising previous samples\n",
    "\n",
    "\n",
    "[Image classifier](./Python/PML_ImageClassifier.ipynb) \n",
    "<br>is now using PML library to create and classify images. "
   ]
  },
  {
   "cell_type": "code",
   "execution_count": null,
   "metadata": {},
   "outputs": [],
   "source": []
  }
 ],
 "metadata": {
  "kernelspec": {
   "display_name": "Python 3",
   "language": "python",
   "name": "python3"
  },
  "language_info": {
   "codemirror_mode": {
    "name": "ipython",
    "version": 3
   },
   "file_extension": ".py",
   "mimetype": "text/x-python",
   "name": "python",
   "nbconvert_exporter": "python",
   "pygments_lexer": "ipython3",
   "version": "3.7.4"
  }
 },
 "nbformat": 4,
 "nbformat_minor": 2
}
